{
  "nbformat": 4,
  "nbformat_minor": 0,
  "metadata": {
    "colab": {
      "provenance": []
    },
    "kernelspec": {
      "name": "python3",
      "display_name": "Python 3"
    },
    "language_info": {
      "name": "python"
    }
  },
  "cells": [
    {
      "cell_type": "markdown",
      "source": [
        "# Market Analysis Dashboard\n"
      ],
      "metadata": {
        "id": "hp_TE9tDsx-R"
      }
    },
    {
      "cell_type": "code",
      "execution_count": null,
      "metadata": {
        "colab": {
          "base_uri": "https://localhost:8080/"
        },
        "id": "m8W_dnhHff8l",
        "outputId": "9c286aa3-fb5b-4605-a37c-9fdbcbae84d5"
      },
      "outputs": [
        {
          "output_type": "stream",
          "name": "stdout",
          "text": [
            "Start Date: 2023-05-05 -> UNIX: 1683244800\n"
          ]
        }
      ],
      "source": [
        "import time\n",
        "\n",
        "def unixDate(date_str):\n",
        "    return int(time.mktime(time.strptime(date_str, \"%Y-%m-%d\")))\n",
        "\n",
        "startDate = '2023-05-05'\n",
        "unixStartDate = unixDate(startDate)\n",
        "\n",
        "print(f\"Start Date: {startDate} -> UNIX: {unixStartDate}\")"
      ]
    },
    {
      "cell_type": "code",
      "source": [],
      "metadata": {
        "id": "v9i0A0R5stU9"
      },
      "execution_count": null,
      "outputs": []
    },
    {
      "cell_type": "code",
      "source": [
        "from datetime import datetime\n",
        "\n",
        "currentDate = datetime.now().strftime('%Y-%m-%d')\n",
        "unixCurrentDate = unixDate(currentDate)\n",
        "\n",
        "print(f\"Current Date: {currentDate} -> UNIX: {unixCurrentDate}\")"
      ],
      "metadata": {
        "colab": {
          "base_uri": "https://localhost:8080/"
        },
        "id": "dZDaV-bDpGDK",
        "outputId": "d9bde442-73cf-4792-e6c2-e56e0512db21"
      },
      "execution_count": null,
      "outputs": [
        {
          "output_type": "stream",
          "name": "stdout",
          "text": [
            "Current Date: 2024-08-21 -> UNIX: 1724198400\n"
          ]
        }
      ]
    },
    {
      "cell_type": "code",
      "source": [
        "import pandas as pd\n",
        "\n",
        "filePath = '/content/drive/MyDrive/Collab-Uploads/trackers.csv'\n",
        "symbols_df = pd.read_csv(filePath)\n",
        "trackers = symbols_df['Symbol'].tolist()\n",
        "\n",
        "print(\"Stock Symbols:\")\n",
        "print(trackers)"
      ],
      "metadata": {
        "colab": {
          "base_uri": "https://localhost:8080/"
        },
        "id": "Yb6luzDspHuy",
        "outputId": "fbb59c59-7deb-4905-f6e7-6c756f10b2ab"
      },
      "execution_count": null,
      "outputs": [
        {
          "output_type": "stream",
          "name": "stdout",
          "text": [
            "Stock Symbols:\n",
            "['AAPL', 'GOOGL', 'AMZN', 'MSFT', 'META', 'TSLA', 'F', 'NVDA', 'ETRN', 'KO', 'NFLX', 'ADANI', 'INFY', 'INTC', 'BTC-USD', 'ETH-USD', 'LEO-USD', 'SOL-USD', 'BND-USD', 'XRP-USD', 'STETH-USD', 'USDC-USD', 'ADA-USD', 'FDUSD-USD', 'FIL-USD', 'WETH', 'LINK-USD', 'AVAX-USD', 'WBTC-USD', 'VBNB-USD', 'USDT-USD', 'SQQQ', 'SOXL', 'TQQQ', 'SPXS', 'SPY', 'SOXS', 'SHTSL', 'TSLL', 'IWM', 'QQQ', 'EEM', 'GDX', 'KRE', 'LQD', 'TECE', 'TLT', 'TNA', 'EURUSD', 'JPY', 'TMAPX', 'BGRIX', 'INRUSD', 'HKD']\n"
          ]
        }
      ]
    },
    {
      "cell_type": "code",
      "source": [
        "data_frames = []"
      ],
      "metadata": {
        "id": "R40ow6cJw60Y"
      },
      "execution_count": null,
      "outputs": []
    },
    {
      "cell_type": "code",
      "source": [
        "period1 = unixDate(startDate)\n",
        "period2 = unixDate(currentDate)\n",
        "\n",
        "# urlOrigin = 'https://query1.finance.yahoo.com/v7/finance/download/AMZN?period1=1692518999&period2=1724141399&interval=1d&events=history&includeAdjustedClose=true'\n",
        "\n",
        "for tracker in trackers:\n",
        "    url = f'https://query1.finance.yahoo.com/v7/finance/download/{tracker}?period1={period1}&period2={period2}&interval=1d&events=history&includeAdjustedClose=true'\n",
        "\n",
        "    try:\n",
        "        df = pd.read_csv(url)\n",
        "        df['Symbol'] = tracker\n",
        "        data_frames.append(df)\n",
        "        print(f\"Data for {tracker} downloaded successfully.\")\n",
        "    except Exception as e:\n",
        "        print(f\"Failed to download data for {tracker}: {e}\")"
      ],
      "metadata": {
        "colab": {
          "base_uri": "https://localhost:8080/"
        },
        "id": "EX-eaXOkyB3p",
        "outputId": "f0c4e0c5-fc5c-41c5-ad88-910c14f06d3b"
      },
      "execution_count": null,
      "outputs": [
        {
          "output_type": "stream",
          "name": "stdout",
          "text": [
            "Data for AAPL downloaded successfully.\n",
            "Data for GOOGL downloaded successfully.\n",
            "Data for AMZN downloaded successfully.\n",
            "Data for MSFT downloaded successfully.\n",
            "Data for META downloaded successfully.\n",
            "Data for TSLA downloaded successfully.\n",
            "Data for F downloaded successfully.\n",
            "Data for NVDA downloaded successfully.\n",
            "Data for ETRN downloaded successfully.\n",
            "Data for KO downloaded successfully.\n",
            "Data for NFLX downloaded successfully.\n",
            "Failed to download data for ADANI: HTTP Error 404: Not Found\n",
            "Data for INFY downloaded successfully.\n",
            "Data for INTC downloaded successfully.\n",
            "Data for BTC-USD downloaded successfully.\n",
            "Data for ETH-USD downloaded successfully.\n",
            "Data for LEO-USD downloaded successfully.\n",
            "Data for SOL-USD downloaded successfully.\n",
            "Failed to download data for BND-USD: HTTP Error 404: Not Found\n",
            "Data for XRP-USD downloaded successfully.\n",
            "Data for STETH-USD downloaded successfully.\n",
            "Data for USDC-USD downloaded successfully.\n",
            "Data for ADA-USD downloaded successfully.\n",
            "Data for FDUSD-USD downloaded successfully.\n",
            "Data for FIL-USD downloaded successfully.\n",
            "Data for WETH downloaded successfully.\n",
            "Data for LINK-USD downloaded successfully.\n",
            "Data for AVAX-USD downloaded successfully.\n",
            "Data for WBTC-USD downloaded successfully.\n",
            "Data for VBNB-USD downloaded successfully.\n",
            "Data for USDT-USD downloaded successfully.\n",
            "Data for SQQQ downloaded successfully.\n",
            "Data for SOXL downloaded successfully.\n",
            "Data for TQQQ downloaded successfully.\n",
            "Data for SPXS downloaded successfully.\n",
            "Data for SPY downloaded successfully.\n",
            "Data for SOXS downloaded successfully.\n",
            "Failed to download data for SHTSL: HTTP Error 404: Not Found\n",
            "Data for TSLL downloaded successfully.\n",
            "Data for IWM downloaded successfully.\n",
            "Data for QQQ downloaded successfully.\n",
            "Data for EEM downloaded successfully.\n",
            "Data for GDX downloaded successfully.\n",
            "Data for KRE downloaded successfully.\n",
            "Data for LQD downloaded successfully.\n",
            "Failed to download data for TECE: HTTP Error 404: Not Found\n",
            "Data for TLT downloaded successfully.\n",
            "Data for TNA downloaded successfully.\n",
            "Failed to download data for EURUSD: HTTP Error 404: Not Found\n",
            "Failed to download data for JPY: HTTP Error 404: Not Found\n",
            "Data for TMAPX downloaded successfully.\n",
            "Data for BGRIX downloaded successfully.\n",
            "Failed to download data for INRUSD: HTTP Error 404: Not Found\n",
            "Data for HKD downloaded successfully.\n"
          ]
        }
      ]
    },
    {
      "cell_type": "code",
      "source": [
        "combined_data = pd.concat(data_frames, ignore_index=True)\n",
        "\n",
        "combined_data = combined_data[[\n",
        "    'Symbol',\n",
        "    'Date',\n",
        "    'Open',\n",
        "    'High',\n",
        "    'Low',\n",
        "    'Close',\n",
        "    'Adj Close',\n",
        "    'Volume'\n",
        "    ]]\n",
        "\n",
        "print(combined_data.head())"
      ],
      "metadata": {
        "id": "7OS83NdE30Cq",
        "colab": {
          "base_uri": "https://localhost:8080/"
        },
        "outputId": "bd66ce69-1a19-41f9-a7c4-a8f13ce002ff"
      },
      "execution_count": null,
      "outputs": [
        {
          "output_type": "stream",
          "name": "stdout",
          "text": [
            "  Symbol        Date        Open        High         Low       Close  \\\n",
            "0   AAPL  2023-05-05  170.979996  174.300003  170.759995  173.570007   \n",
            "1   AAPL  2023-05-08  172.479996  173.850006  172.110001  173.500000   \n",
            "2   AAPL  2023-05-09  173.050003  173.539993  171.600006  171.770004   \n",
            "3   AAPL  2023-05-10  173.020004  174.029999  171.899994  173.559998   \n",
            "4   AAPL  2023-05-11  173.850006  174.589996  172.169998  173.750000   \n",
            "\n",
            "    Adj Close       Volume  \n",
            "0  172.215271  113316400.0  \n",
            "1  172.145813   55962800.0  \n",
            "2  170.429306   45326900.0  \n",
            "3  172.205338   53724500.0  \n",
            "4  172.393845   49514700.0  \n"
          ]
        }
      ]
    }
  ]
}